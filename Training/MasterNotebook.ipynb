{
  "nbformat": 4,
  "nbformat_minor": 0,
  "metadata": {
    "colab": {
      "name": "Best Transfer Model Andrew X-Ray CNN.ipynb",
      "provenance": [],
      "collapsed_sections": []
    },
    "kernelspec": {
      "name": "python3",
      "display_name": "Python 3"
    },
    "accelerator": "GPU"
  },
  "cells": [
    {
      "cell_type": "markdown",
      "metadata": {
        "id": "tFaW__biDQVi"
      },
      "source": [
        "feel free to make copies of this notebook so we can have multiple models training at the same time"
      ]
    },
    {
      "cell_type": "code",
      "metadata": {
        "id": "SC2f4IzlBEax",
        "colab": {
          "base_uri": "https://localhost:8080/"
        },
        "outputId": "917778d9-f14a-4a83-f2df-aa5335c424e3"
      },
      "source": [
        "from google.colab import drive\n",
        "drive.mount('/content/gdrive', force_remount=True)"
      ],
      "execution_count": 5,
      "outputs": [
        {
          "output_type": "stream",
          "text": [
            "Mounted at /content/gdrive\n"
          ],
          "name": "stdout"
        }
      ]
    },
    {
      "cell_type": "code",
      "metadata": {
        "id": "zxBdB0-6CMjr"
      },
      "source": [
        "# File manipulation and IO (input/output)\n",
        "import os, shutil\n",
        "import pickle\n",
        "import zipfile\n",
        "from google.colab import files\n",
        "\n",
        "# Import numerical and dataframe handling\n",
        "import numpy as np\n",
        "import scipy\n",
        "import pandas as pd\n",
        "\n",
        "# Data preprocessing\n",
        "from PIL import Image\n",
        "from sklearn.utils import shuffle\n",
        "\n",
        "# Model scoring\n",
        "from sklearn.metrics import confusion_matrix\n",
        "from sklearn import metrics\n",
        "import sklearn\n",
        "\n",
        "# Import standard machine learning machinery\n",
        "import tensorflow as tf\n",
        "from tensorflow.keras.models import Sequential\n",
        "from tensorflow.keras.layers import Dense, Conv2D, Flatten, Dropout, MaxPooling2D\n",
        "\n",
        "# Garbage collection (for saving RAM during training)\n",
        "import gc\n",
        "\n",
        "# Import plotting functionality\n",
        "import matplotlib.pyplot as plt\n",
        "import matplotlib.cm as cm\n",
        "from matplotlib.ticker import MultipleLocator\n",
        "import matplotlib\n",
        "import skimage.transform as transform"
      ],
      "execution_count": 6,
      "outputs": []
    },
    {
      "cell_type": "markdown",
      "metadata": {
        "id": "2_0y28adEM5d"
      },
      "source": [
        "This loads all the X-Ray data into DirectoryIterator objects. Rudimentary data augmentation has already been performed on the training data"
      ]
    },
    {
      "cell_type": "code",
      "metadata": {
        "id": "5RnfZXDqBPcH",
        "colab": {
          "base_uri": "https://localhost:8080/"
        },
        "outputId": "e4ce0908-523d-411b-e3f3-b975168a3c0e"
      },
      "source": [
        "image_height = 299\n",
        "image_width = 299\n",
        "seed = 999\n",
        "\n",
        "one_hot_to_string = [([1.,0.,0.,0.,0.],'NORMAL'),\n",
        "                    ([0.,1.,0.,0.,0.],'COVID-19'),\n",
        "                    ([0.,0.,1.,0.,0.],'BACTERIAL PNEUMONIA'),\n",
        "                    ([0.,0.,0.,1.,0.],'VIRAL PNEUMONIA'),\n",
        "                    ([0.,0.,0.,0.,1.],'TUBERCULOSIS')]\n",
        "\n",
        "base_dir = '/content/gdrive/My Drive/covid project'\n",
        "Xray_train_dir = os.path.join(base_dir, 'Xray_images_train_v2')\n",
        "Xray_val_dir = os.path.join(base_dir, 'Xray_images_val_v2')\n",
        "Xray_test_dir = os.path.join(base_dir, 'Xray_images_test_v2')\n",
        "\n",
        "\n",
        "train_augmented = tf.keras.preprocessing.image.ImageDataGenerator(rescale=1./255,\n",
        "                                                                rotation_range=8,\n",
        "                                                                width_shift_range=.15,\n",
        "                                                                height_shift_range=.15,\n",
        "                                                                horizontal_flip=True,\n",
        "                                                                zoom_range=0.2,\n",
        "                                                                samplewise_std_normalization=True)\n",
        "\n",
        "\n",
        "val_generator = tf.keras.preprocessing.image.ImageDataGenerator(rescale=1./255,\n",
        "                                                                samplewise_std_normalization=True)\n",
        "\n",
        "print('Xray image info (train, val, test):')\n",
        "train_xray = train_augmented.flow_from_directory(Xray_train_dir, target_size=(image_height, image_width), color_mode='rgb', seed=seed)\n",
        "val_xray = val_generator.flow_from_directory(Xray_val_dir, target_size=(image_height, image_width), color_mode='rgb', seed=seed)\n",
        "test_xray = val_generator.flow_from_directory(Xray_test_dir, target_size=(image_height, image_width), color_mode='rgb', seed=seed)"
      ],
      "execution_count": 8,
      "outputs": [
        {
          "output_type": "stream",
          "text": [
            "/usr/local/lib/python3.7/dist-packages/keras_preprocessing/image/image_data_generator.py:356: UserWarning: This ImageDataGenerator specifies `samplewise_std_normalization`, which overrides setting of `samplewise_center`.\n",
            "  warnings.warn('This ImageDataGenerator specifies '\n"
          ],
          "name": "stderr"
        },
        {
          "output_type": "stream",
          "text": [
            "Xray image info (train, val, test):\n",
            "Found 6324 images belonging to 5 classes.\n",
            "Found 1574 images belonging to 5 classes.\n",
            "Found 1970 images belonging to 5 classes.\n"
          ],
          "name": "stdout"
        }
      ]
    },
    {
      "cell_type": "markdown",
      "metadata": {
        "id": "lbpGYRuVD68g"
      },
      "source": [
        "Load a few images from the validation set. (note: this might change the order of the samples called from the generator, so before you run any models feel free to re-initialize the data)"
      ]
    },
    {
      "cell_type": "code",
      "metadata": {
        "id": "WA_hJVV4Dysd",
        "colab": {
          "base_uri": "https://localhost:8080/",
          "height": 52
        },
        "outputId": "73af5597-9bfa-4976-d715-2359bdbee31b"
      },
      "source": [
        "'''samples, labels = next(val_xray)\n",
        "\n",
        "five_samples = samples[:5]\n",
        "five_labels = labels[:5]\n",
        "\n",
        "fig, axes=plt.subplots(1,5,figsize=(20,20))\n",
        "axes=axes.flatten()\n",
        "for num, (img, ax) in enumerate(zip(five_samples, axes)):\n",
        "  ax.imshow(img)\n",
        "  one_hot = five_labels[num]\n",
        "  ax.set_xlabel([y for x,y in one_hot_to_string if x == list(one_hot)])\n",
        "plt.tight_layout()\n",
        "plt.show()'''"
      ],
      "execution_count": 9,
      "outputs": [
        {
          "output_type": "execute_result",
          "data": {
            "application/vnd.google.colaboratory.intrinsic+json": {
              "type": "string"
            },
            "text/plain": [
              "'samples, labels = next(val_xray)\\n\\nfive_samples = samples[:5]\\nfive_labels = labels[:5]\\n\\nfig, axes=plt.subplots(1,5,figsize=(20,20))\\naxes=axes.flatten()\\nfor num, (img, ax) in enumerate(zip(five_samples, axes)):\\n  ax.imshow(img)\\n  one_hot = five_labels[num]\\n  ax.set_xlabel([y for x,y in one_hot_to_string if x == list(one_hot)])\\nplt.tight_layout()\\nplt.show()'"
            ]
          },
          "metadata": {
            "tags": []
          },
          "execution_count": 9
        }
      ]
    },
    {
      "cell_type": "code",
      "metadata": {
        "id": "xfM28ZeYu_ld",
        "colab": {
          "base_uri": "https://localhost:8080/"
        },
        "outputId": "81f72710-3737-4a62-fce9-fe00ada94c8f"
      },
      "source": [
        "tf.keras.backend.clear_session()\n",
        "\n",
        "base_model = tf.keras.applications.DenseNet201(input_shape=(image_height, image_width, 3), include_top=False, weights='imagenet')\n",
        "base_model.trainable = False\n",
        "\n",
        "global_average_layer = tf.keras.layers.GlobalAveragePooling2D()\n",
        "flatten_layer = Flatten()\n",
        "dense_layer1 = tf.keras.layers.Dense(32, activation='relu')\n",
        "dense_layer2 = tf.keras.layers.Dense(5, activation='softmax')\n",
        "\n",
        "model = tf.keras.Sequential([\n",
        "    base_model,\n",
        "    global_average_layer,\n",
        "    flatten_layer,\n",
        "    dense_layer1,\n",
        "    dense_layer2\n",
        "])\n",
        "#, loss_weights=[1, 6, 1, 1, 6])\n",
        "model.compile(optimizer='adam', loss='categorical_crossentropy', metrics=['AUC', tf.keras.metrics.TrueNegatives(), tf.keras.metrics.FalsePositives(), tf.keras.metrics.TruePositives(), tf.keras.metrics.FalseNegatives(), 'accuracy'], run_eagerly=True)\n",
        "\n",
        "\n",
        "model.summary()"
      ],
      "execution_count": 10,
      "outputs": [
        {
          "output_type": "stream",
          "text": [
            "Downloading data from https://storage.googleapis.com/tensorflow/keras-applications/densenet/densenet201_weights_tf_dim_ordering_tf_kernels_notop.h5\n",
            "74842112/74836368 [==============================] - 1s 0us/step\n",
            "Model: \"sequential\"\n",
            "_________________________________________________________________\n",
            "Layer (type)                 Output Shape              Param #   \n",
            "=================================================================\n",
            "densenet201 (Functional)     (None, 9, 9, 1920)        18321984  \n",
            "_________________________________________________________________\n",
            "global_average_pooling2d (Gl (None, 1920)              0         \n",
            "_________________________________________________________________\n",
            "flatten (Flatten)            (None, 1920)              0         \n",
            "_________________________________________________________________\n",
            "dense (Dense)                (None, 32)                61472     \n",
            "_________________________________________________________________\n",
            "dense_1 (Dense)              (None, 5)                 165       \n",
            "=================================================================\n",
            "Total params: 18,383,621\n",
            "Trainable params: 61,637\n",
            "Non-trainable params: 18,321,984\n",
            "_________________________________________________________________\n"
          ],
          "name": "stdout"
        }
      ]
    },
    {
      "cell_type": "code",
      "metadata": {
        "id": "-GdqU2uAvMHW",
        "colab": {
          "base_uri": "https://localhost:8080/"
        },
        "outputId": "9d885897-a63a-42a5-d08a-4c13db2e8028"
      },
      "source": [
        "class garbage_collect_callback(tf.keras.callbacks.Callback):\n",
        "  def on_epoch_end(self, epoch, logs=None):\n",
        "    gc.collect()\n",
        "early_stop = tf.keras.callbacks.EarlyStopping(monitor='val_accuracy', patience=5, restore_best_weights=True)\n",
        "\n",
        "class_weight = {0: 1.,\n",
        "                1: 6.,\n",
        "                2: 1.,\n",
        "                3: 1.,\n",
        "                4: 6.}\n",
        "\n",
        "history = model.fit(train_xray,\n",
        "                    epochs=50,\n",
        "                    batch_size=5,\n",
        "                    callbacks=[garbage_collect_callback(), early_stop],\n",
        "                    validation_data=val_xray,\n",
        "                    verbose=1,\n",
        "                    class_weight=class_weight)"
      ],
      "execution_count": 11,
      "outputs": [
        {
          "output_type": "stream",
          "text": [
            "Epoch 1/50\n",
            "198/198 [==============================] - 3261s 16s/step - loss: 1.4438 - auc: 0.8672 - true_negatives: 12310.2211 - false_positives: 448.8543 - true_positives: 1448.3920 - false_negatives: 1741.3769 - accuracy: 0.6083 - val_loss: 0.6726 - val_auc: 0.9414 - val_true_negatives: 6003.0000 - val_false_positives: 293.0000 - val_true_positives: 1050.0000 - val_false_negatives: 524.0000 - val_accuracy: 0.7332\n",
            "Epoch 2/50\n",
            "198/198 [==============================] - 384s 2s/step - loss: 0.7635 - auc: 0.9479 - true_negatives: 12147.4724 - false_positives: 614.0151 - true_positives: 2201.2965 - false_negatives: 989.0754 - accuracy: 0.7452 - val_loss: 0.6401 - val_auc: 0.9463 - val_true_negatives: 5999.0000 - val_false_positives: 297.0000 - val_true_positives: 1083.0000 - val_false_negatives: 491.0000 - val_accuracy: 0.7427\n",
            "Epoch 3/50\n",
            "198/198 [==============================] - 381s 2s/step - loss: 0.7105 - auc: 0.9554 - true_negatives: 12155.7940 - false_positives: 605.4523 - true_positives: 2302.3015 - false_negatives: 888.0101 - accuracy: 0.7670 - val_loss: 0.5992 - val_auc: 0.9520 - val_true_negatives: 5991.0000 - val_false_positives: 305.0000 - val_true_positives: 1131.0000 - val_false_negatives: 443.0000 - val_accuracy: 0.7624\n",
            "Epoch 4/50\n",
            "198/198 [==============================] - 383s 2s/step - loss: 0.6287 - auc: 0.9601 - true_negatives: 12170.7789 - false_positives: 581.7839 - true_positives: 2362.9598 - false_negatives: 825.1809 - accuracy: 0.7742 - val_loss: 0.6580 - val_auc: 0.9435 - val_true_negatives: 5869.0000 - val_false_positives: 427.0000 - val_true_positives: 1060.0000 - val_false_negatives: 514.0000 - val_accuracy: 0.6944\n",
            "Epoch 5/50\n",
            "198/198 [==============================] - 379s 2s/step - loss: 0.6198 - auc: 0.9601 - true_negatives: 12163.1206 - false_positives: 592.3367 - true_positives: 2397.7085 - false_negatives: 791.1558 - accuracy: 0.7761 - val_loss: 0.5586 - val_auc: 0.9581 - val_true_negatives: 6004.0000 - val_false_positives: 292.0000 - val_true_positives: 1168.0000 - val_false_negatives: 406.0000 - val_accuracy: 0.7745\n",
            "Epoch 6/50\n",
            "198/198 [==============================] - 381s 2s/step - loss: 0.5928 - auc: 0.9638 - true_negatives: 12213.8492 - false_positives: 583.8191 - true_positives: 2420.0101 - false_negatives: 779.4070 - accuracy: 0.7834 - val_loss: 0.6972 - val_auc: 0.9390 - val_true_negatives: 5931.0000 - val_false_positives: 365.0000 - val_true_positives: 1078.0000 - val_false_negatives: 496.0000 - val_accuracy: 0.7236\n",
            "Epoch 7/50\n",
            "198/198 [==============================] - 380s 2s/step - loss: 0.5912 - auc: 0.9633 - true_negatives: 12161.2613 - false_positives: 600.9497 - true_positives: 2428.2312 - false_negatives: 762.3216 - accuracy: 0.7840 - val_loss: 0.5007 - val_auc: 0.9648 - val_true_negatives: 5997.0000 - val_false_positives: 299.0000 - val_true_positives: 1216.0000 - val_false_negatives: 358.0000 - val_accuracy: 0.7878\n",
            "Epoch 8/50\n",
            "198/198 [==============================] - 380s 2s/step - loss: 0.5446 - auc: 0.9668 - true_negatives: 12194.5678 - false_positives: 565.4724 - true_positives: 2478.9950 - false_negatives: 711.0151 - accuracy: 0.7977 - val_loss: 0.5287 - val_auc: 0.9611 - val_true_negatives: 5974.0000 - val_false_positives: 322.0000 - val_true_positives: 1198.0000 - val_false_negatives: 376.0000 - val_accuracy: 0.7783\n",
            "Epoch 9/50\n",
            "198/198 [==============================] - 382s 2s/step - loss: 0.5578 - auc: 0.9660 - true_negatives: 12191.7286 - false_positives: 593.1558 - true_positives: 2456.6382 - false_negatives: 739.5829 - accuracy: 0.7873 - val_loss: 0.4967 - val_auc: 0.9653 - val_true_negatives: 5999.0000 - val_false_positives: 297.0000 - val_true_positives: 1216.0000 - val_false_negatives: 358.0000 - val_accuracy: 0.7884\n",
            "Epoch 10/50\n",
            "198/198 [==============================] - 382s 2s/step - loss: 0.5526 - auc: 0.9665 - true_negatives: 12197.1005 - false_positives: 566.5578 - true_positives: 2498.2864 - false_negatives: 692.6281 - accuracy: 0.8035 - val_loss: 0.5673 - val_auc: 0.9577 - val_true_negatives: 5974.0000 - val_false_positives: 322.0000 - val_true_positives: 1181.0000 - val_false_negatives: 393.0000 - val_accuracy: 0.7738\n",
            "Epoch 11/50\n",
            "198/198 [==============================] - 381s 2s/step - loss: 0.5063 - auc: 0.9700 - true_negatives: 12236.7487 - false_positives: 535.8342 - true_positives: 2535.0101 - false_negatives: 658.1357 - accuracy: 0.8122 - val_loss: 0.6415 - val_auc: 0.9477 - val_true_negatives: 5947.0000 - val_false_positives: 349.0000 - val_true_positives: 1137.0000 - val_false_negatives: 437.0000 - val_accuracy: 0.7465\n",
            "Epoch 12/50\n",
            "198/198 [==============================] - 380s 2s/step - loss: 0.5255 - auc: 0.9685 - true_negatives: 12229.1457 - false_positives: 557.9095 - true_positives: 2513.7739 - false_negatives: 682.9899 - accuracy: 0.8039 - val_loss: 0.5105 - val_auc: 0.9630 - val_true_negatives: 5984.0000 - val_false_positives: 312.0000 - val_true_positives: 1211.0000 - val_false_negatives: 363.0000 - val_accuracy: 0.7814\n",
            "Epoch 13/50\n",
            "198/198 [==============================] - 381s 2s/step - loss: 0.5242 - auc: 0.9704 - true_negatives: 12224.9548 - false_positives: 546.4221 - true_positives: 2527.4874 - false_negatives: 665.3568 - accuracy: 0.8124 - val_loss: 0.4751 - val_auc: 0.9678 - val_true_negatives: 6001.0000 - val_false_positives: 295.0000 - val_true_positives: 1241.0000 - val_false_negatives: 333.0000 - val_accuracy: 0.7980\n",
            "Epoch 14/50\n",
            "198/198 [==============================] - 382s 2s/step - loss: 0.5520 - auc: 0.9676 - true_negatives: 12161.8191 - false_positives: 589.5377 - true_positives: 2499.8543 - false_negatives: 687.9849 - accuracy: 0.7906 - val_loss: 0.5718 - val_auc: 0.9568 - val_true_negatives: 5976.0000 - val_false_positives: 320.0000 - val_true_positives: 1189.0000 - val_false_negatives: 385.0000 - val_accuracy: 0.7783\n",
            "Epoch 15/50\n",
            "198/198 [==============================] - 383s 2s/step - loss: 0.4566 - auc: 0.9756 - true_negatives: 12232.1407 - false_positives: 521.8693 - true_positives: 2578.0302 - false_negatives: 610.4724 - accuracy: 0.8264 - val_loss: 0.4684 - val_auc: 0.9681 - val_true_negatives: 5996.0000 - val_false_positives: 300.0000 - val_true_positives: 1233.0000 - val_false_negatives: 341.0000 - val_accuracy: 0.7961\n",
            "Epoch 16/50\n",
            "198/198 [==============================] - 384s 2s/step - loss: 0.5327 - auc: 0.9678 - true_negatives: 12252.5829 - false_positives: 532.5427 - true_positives: 2554.1156 - false_negatives: 642.1658 - accuracy: 0.8081 - val_loss: 0.5160 - val_auc: 0.9632 - val_true_negatives: 5988.0000 - val_false_positives: 308.0000 - val_true_positives: 1224.0000 - val_false_negatives: 350.0000 - val_accuracy: 0.7903\n",
            "Epoch 17/50\n",
            "198/198 [==============================] - 382s 2s/step - loss: 0.5048 - auc: 0.9704 - true_negatives: 12234.6683 - false_positives: 531.4020 - true_positives: 2548.9598 - false_negatives: 642.5578 - accuracy: 0.8068 - val_loss: 0.4833 - val_auc: 0.9670 - val_true_negatives: 6004.0000 - val_false_positives: 292.0000 - val_true_positives: 1236.0000 - val_false_negatives: 338.0000 - val_accuracy: 0.7986\n",
            "Epoch 18/50\n",
            "198/198 [==============================] - 385s 2s/step - loss: 0.4822 - auc: 0.9724 - true_negatives: 12227.4523 - false_positives: 538.6181 - true_positives: 2550.5276 - false_negatives: 640.9899 - accuracy: 0.8125 - val_loss: 0.4866 - val_auc: 0.9668 - val_true_negatives: 6006.0000 - val_false_positives: 290.0000 - val_true_positives: 1233.0000 - val_false_negatives: 341.0000 - val_accuracy: 0.7992\n",
            "Epoch 19/50\n",
            "198/198 [==============================] - 384s 2s/step - loss: 0.5066 - auc: 0.9728 - true_negatives: 12277.6985 - false_positives: 514.4221 - true_positives: 2589.0452 - false_negatives: 608.9849 - accuracy: 0.8279 - val_loss: 0.5307 - val_auc: 0.9621 - val_true_negatives: 5992.0000 - val_false_positives: 304.0000 - val_true_positives: 1214.0000 - val_false_negatives: 360.0000 - val_accuracy: 0.7878\n",
            "Epoch 20/50\n",
            "198/198 [==============================] - 383s 2s/step - loss: 0.4549 - auc: 0.9748 - true_negatives: 12269.5327 - false_positives: 525.7236 - true_positives: 2591.8995 - false_negatives: 606.9146 - accuracy: 0.8261 - val_loss: 0.4949 - val_auc: 0.9660 - val_true_negatives: 5988.0000 - val_false_positives: 308.0000 - val_true_positives: 1227.0000 - val_false_negatives: 347.0000 - val_accuracy: 0.7903\n",
            "Epoch 21/50\n",
            "198/198 [==============================] - 386s 2s/step - loss: 0.4823 - auc: 0.9730 - true_negatives: 12218.8643 - false_positives: 545.0352 - true_positives: 2565.1809 - false_negatives: 625.7940 - accuracy: 0.8158 - val_loss: 0.6567 - val_auc: 0.9477 - val_true_negatives: 5945.0000 - val_false_positives: 351.0000 - val_true_positives: 1152.0000 - val_false_negatives: 422.0000 - val_accuracy: 0.7522\n",
            "Epoch 22/50\n",
            "198/198 [==============================] - 384s 2s/step - loss: 0.4916 - auc: 0.9732 - true_negatives: 12269.0754 - false_positives: 512.4322 - true_positives: 2583.3065 - false_negatives: 612.0704 - accuracy: 0.8279 - val_loss: 0.5002 - val_auc: 0.9654 - val_true_negatives: 6017.0000 - val_false_positives: 279.0000 - val_true_positives: 1252.0000 - val_false_negatives: 322.0000 - val_accuracy: 0.8081\n",
            "Epoch 23/50\n",
            "198/198 [==============================] - 384s 2s/step - loss: 0.5113 - auc: 0.9718 - true_negatives: 12244.8342 - false_positives: 526.3015 - true_positives: 2587.5930 - false_negatives: 605.1910 - accuracy: 0.8205 - val_loss: 0.4677 - val_auc: 0.9690 - val_true_negatives: 6001.0000 - val_false_positives: 295.0000 - val_true_positives: 1247.0000 - val_false_negatives: 327.0000 - val_accuracy: 0.8043\n",
            "Epoch 24/50\n",
            "198/198 [==============================] - 381s 2s/step - loss: 0.4846 - auc: 0.9728 - true_negatives: 12227.4975 - false_positives: 538.8141 - true_positives: 2560.3668 - false_negatives: 631.2111 - accuracy: 0.8153 - val_loss: 0.4976 - val_auc: 0.9653 - val_true_negatives: 5975.0000 - val_false_positives: 321.0000 - val_true_positives: 1224.0000 - val_false_negatives: 350.0000 - val_accuracy: 0.7878\n",
            "Epoch 25/50\n",
            "198/198 [==============================] - 381s 2s/step - loss: 0.4700 - auc: 0.9739 - true_negatives: 12220.1759 - false_positives: 537.4523 - true_positives: 2572.6884 - false_negatives: 616.7186 - accuracy: 0.8235 - val_loss: 0.5309 - val_auc: 0.9617 - val_true_negatives: 5992.0000 - val_false_positives: 304.0000 - val_true_positives: 1218.0000 - val_false_negatives: 356.0000 - val_accuracy: 0.7903\n",
            "Epoch 26/50\n",
            "198/198 [==============================] - 381s 2s/step - loss: 0.4574 - auc: 0.9743 - true_negatives: 12288.0955 - false_positives: 496.5477 - true_positives: 2604.3970 - false_negatives: 591.7638 - accuracy: 0.8278 - val_loss: 0.6362 - val_auc: 0.9506 - val_true_negatives: 5921.0000 - val_false_positives: 375.0000 - val_true_positives: 1153.0000 - val_false_negatives: 421.0000 - val_accuracy: 0.7440\n",
            "Epoch 27/50\n",
            "198/198 [==============================] - 381s 2s/step - loss: 0.4648 - auc: 0.9743 - true_negatives: 12254.9698 - false_positives: 526.5377 - true_positives: 2591.7035 - false_negatives: 603.6734 - accuracy: 0.8221 - val_loss: 0.5013 - val_auc: 0.9646 - val_true_negatives: 6007.0000 - val_false_positives: 289.0000 - val_true_positives: 1245.0000 - val_false_negatives: 329.0000 - val_accuracy: 0.8037\n"
          ],
          "name": "stdout"
        }
      ]
    },
    {
      "cell_type": "code",
      "metadata": {
        "id": "oXNZDoh1tJwx"
      },
      "source": [
        "model.save('final_model.h5')"
      ],
      "execution_count": 12,
      "outputs": []
    },
    {
      "cell_type": "markdown",
      "metadata": {
        "id": "uCYfuZ54-1DG"
      },
      "source": [
        ""
      ]
    },
    {
      "cell_type": "code",
      "metadata": {
        "id": "caQfrZwMbl3X"
      },
      "source": [
        "test_xray.shuffle = False\n",
        "test_xray.reset()\n",
        "\n",
        "predictions = model.predict(test_xray)\n",
        "# Get most likely class\n",
        "predicted_classes = np.argmax(predictions, axis=1)\n",
        "\n",
        "true_classes = test_xray.classes\n",
        "class_labels = list(test_xray.class_indices.keys())   "
      ],
      "execution_count": 13,
      "outputs": []
    },
    {
      "cell_type": "markdown",
      "metadata": {
        "id": "joE7VR9Y-59J"
      },
      "source": [
        "This cell calculates the test accuracy\n"
      ]
    },
    {
      "cell_type": "code",
      "metadata": {
        "id": "NKDomIMP4Szr",
        "colab": {
          "base_uri": "https://localhost:8080/"
        },
        "outputId": "75a29567-a799-4198-b85f-14a33f085d83"
      },
      "source": [
        "report = metrics.classification_report(true_classes, predicted_classes, target_names=class_labels)\n",
        "print(report)\n",
        "acc = sklearn.metrics.accuracy_score(true_classes, predicted_classes)\n",
        "print(f' Model Accuracy: {acc:.2%}')\n"
      ],
      "execution_count": 14,
      "outputs": [
        {
          "output_type": "stream",
          "text": [
            "                         precision    recall  f1-score   support\n",
            "\n",
            "             1 - NORMAL       0.84      0.93      0.88       639\n",
            "           2 - COVID-19       0.97      0.98      0.97       125\n",
            "3 - BACTERIAL PNEUMONIA       0.74      0.77      0.75       556\n",
            "    4 - VIRAL PNEUMONIA       0.80      0.63      0.70       567\n",
            "       5 - TUBERCULOSIS       0.66      0.94      0.77        83\n",
            "\n",
            "               accuracy                           0.80      1970\n",
            "              macro avg       0.80      0.85      0.82      1970\n",
            "           weighted avg       0.80      0.80      0.80      1970\n",
            "\n",
            " Model Accuracy: 79.95%\n"
          ],
          "name": "stdout"
        }
      ]
    },
    {
      "cell_type": "code",
      "metadata": {
        "id": "Y5OCIBlOgHMU",
        "colab": {
          "base_uri": "https://localhost:8080/",
          "height": 665
        },
        "outputId": "c405b111-5f9f-4e14-e9c8-c66a34f784e3"
      },
      "source": [
        "conf_mat = confusion_matrix(true_classes, predicted_classes)\n",
        "\n",
        "# Generate a new figure\n",
        "plt.figure(figsize=(10,10))\n",
        "\n",
        "# Display the confusion matrix\n",
        "plt.imshow(confusion_matrix(true_classes, predicted_classes, normalize='true'), cmap='hot', interpolation='nearest')\n",
        "\n",
        "# Add some anotation for the plot\n",
        "plt.colorbar()\n",
        "plt.xlabel('True label')\n",
        "plt.ylabel('Predicted label')\n",
        "plt.show()\n",
        "print(conf_mat)"
      ],
      "execution_count": 15,
      "outputs": [
        {
          "output_type": "display_data",
          "data": {
            "image/png": "[encoded data removed]",
            "text/plain": [
              "<Figure size 720x720 with 2 Axes>"
            ]
          },
          "metadata": {
            "tags": [],
            "needs_background": "light"
          }
        },
        {
          "output_type": "stream",
          "text": [
            "[[594   0   0   6  39]\n",
            " [  3 122   0   0   0]\n",
            " [ 47   1 426  80   2]\n",
            " [ 61   2 149 355   0]\n",
            " [  4   1   0   0  78]]\n"
          ],
          "name": "stdout"
        }
      ]
    },
    {
      "cell_type": "code",
      "metadata": {
        "id": "H5kgkMTzDuVm",
        "colab": {
          "base_uri": "https://localhost:8080/",
          "height": 621
        },
        "outputId": "5083601e-e0eb-439b-8d1d-3068d0010b3b"
      },
      "source": [
        "#This cell will print a ROC curve for prediction data. Have \n",
        "\n",
        "from sklearn import preprocessing\n",
        "from sklearn.feature_extraction import DictVectorizer\n",
        "\n",
        "fpr = {}\n",
        "tpr = {}\n",
        "roc_auc = {}\n",
        "\n",
        "#Initalize key reference dictionaries \n",
        "stage_dict = {0:'NORMAL', 1:'COVID-19', 2:'BACTERIAL PNEUMONIA', 3:'VIRAL PNEUMONIA', 4:'TUBERCULOSIS'}\n",
        "\n",
        "#Convert ndarray prediction and true labels to pandas dataframes, and then perform one hot encoding\n",
        "'''\n",
        "true_classes: ndarray containing true labels\n",
        "predicted_classes: ndarray containing predicted labels\n",
        "'''\n",
        "true_classes_df = pd.DataFrame(true_classes)\n",
        "true_classes_df = pd.get_dummies(true_classes_df[0], prefix='disease')\n",
        "predicted_classes_df = pd.DataFrame(predicted_classes)\n",
        "predicted_classes_df = pd.get_dummies(predicted_classes_df[0], prefix='disease')\n",
        "\n",
        "#Plot roc curves\n",
        "plt.figure(figsize=(14,10))\n",
        "for i in range(5):\n",
        "    fpr[i], tpr[i], _ = metrics.roc_curve(true_classes_df.iloc[:, i], predicted_classes_df.iloc[:, i])\n",
        "    roc_auc[i] = metrics.auc(fpr[i], tpr[i])\n",
        "    plt.plot(fpr[i], tpr[i], label = stage_dict[i] + ', ' + str(i))\n",
        "\n",
        "plt.plot([0, 1], [0, 1])\n",
        "plt.xlabel('False Positive Rate')\n",
        "plt.ylabel('True Positive Rate')\n",
        "plt.title('Multi-Class ROC Curve')\n",
        "plt.legend()\n",
        "plt.show()\n",
        "\n",
        "fpr[\"micro\"], tpr[\"micro\"], _ = metrics.roc_curve(true_classes_df.values.ravel(), predicted_classes_df.values.ravel())\n",
        "\n",
        "roc_auc_agg = metrics.auc(fpr[\"micro\"], tpr[\"micro\"])\n",
        "print(\"Averge AUC:\")\n",
        "print(roc_auc_agg)"
      ],
      "execution_count": 16,
      "outputs": [
        {
          "output_type": "display_data",
          "data": {
            "image/png": "[encoded data removed]",
            "text/plain": [
              "<Figure size 1008x720 with 1 Axes>"
            ]
          },
          "metadata": {
            "tags": [],
            "needs_background": "light"
          }
        }
      ]
    },
    {
      "cell_type": "code",
      "metadata": {
        "id": "lLKp_xzBDl_l",
        "colab": {
          "base_uri": "https://localhost:8080/",
          "height": 69
        },
        "outputId": "e451b425-c014-49be-99ad-6a2f04468eb5"
      },
      "source": [
        "'''val_xray.shuffle = False\n",
        "val_xray.reset()\n",
        "\n",
        "predictions = model.predict(val_xray)\n",
        "# Get most likely class\n",
        "predicted_classes = np.argmax(predictions, axis=1)\n",
        "\n",
        "true_classes = val_xray.classes\n",
        "class_labels = list(val_xray.class_indices.keys())   '''"
      ],
      "execution_count": 17,
      "outputs": [
        {
          "output_type": "execute_result",
          "data": {
            "application/vnd.google.colaboratory.intrinsic+json": {
              "type": "string"
            },
            "text/plain": [
              "'val_xray.shuffle = False\\nval_xray.reset()\\n\\npredictions = model.predict(val_xray)\\n# Get most likely class\\npredicted_classes = np.argmax(predictions, axis=1)\\n\\ntrue_classes = val_xray.classes\\nclass_labels = list(val_xray.class_indices.keys())   '"
            ]
          },
          "metadata": {
            "tags": []
          },
          "execution_count": 17
        },
        {
          "output_type": "stream",
          "text": [
            "Averge AUC:\n",
            "0.8746827411167513\n"
          ],
          "name": "stdout"
        }
      ]
    },
    {
      "cell_type": "code",
      "metadata": {
        "id": "TZ2TvDJ09Q5h",
        "colab": {
          "base_uri": "https://localhost:8080/",
          "height": 35
        },
        "outputId": "4d682a38-5cfb-4e09-ceb2-efa157548165"
      },
      "source": [
        "'''report = metrics.classification_report(true_classes, predicted_classes, target_names=class_labels)\n",
        "print(report)\n",
        "acc = sklearn.metrics.accuracy_score(true_classes, predicted_classes)\n",
        "print(f' Model Accuracy: {acc:.2%}')'''\n"
      ],
      "execution_count": 18,
      "outputs": [
        {
          "output_type": "execute_result",
          "data": {
            "application/vnd.google.colaboratory.intrinsic+json": {
              "type": "string"
            },
            "text/plain": [
              "\"report = metrics.classification_report(true_classes, predicted_classes, target_names=class_labels)\\nprint(report)\\nacc = sklearn.metrics.accuracy_score(true_classes, predicted_classes)\\nprint(f' Model Accuracy: {acc:.2%}')\""
            ]
          },
          "metadata": {
            "tags": []
          },
          "execution_count": 18
        }
      ]
    },
    {
      "cell_type": "code",
      "metadata": {
        "id": "F0DBk44ICHAp",
        "colab": {
          "base_uri": "https://localhost:8080/",
          "height": 52
        },
        "outputId": "443a4000-f5ff-47a7-decb-e1458044cd2f"
      },
      "source": [
        "'''conf_mat = confusion_matrix(true_classes, predicted_classes)\n",
        "\n",
        "# Generate a new figure\n",
        "plt.figure(figsize=(10,10))\n",
        "\n",
        "# Display the confusion matrix\n",
        "plt.imshow(confusion_matrix(true_classes, predicted_classes, normalize='true'), cmap='hot', interpolation='nearest')\n",
        "\n",
        "# Add some anotation for the plot\n",
        "plt.colorbar()\n",
        "plt.xlabel('True label')\n",
        "plt.ylabel('Predicted label')\n",
        "plt.show()\n",
        "print(conf_mat)\n",
        "'''"
      ],
      "execution_count": 19,
      "outputs": [
        {
          "output_type": "execute_result",
          "data": {
            "application/vnd.google.colaboratory.intrinsic+json": {
              "type": "string"
            },
            "text/plain": [
              "\"conf_mat = confusion_matrix(true_classes, predicted_classes)\\n\\n# Generate a new figure\\nplt.figure(figsize=(10,10))\\n\\n# Display the confusion matrix\\nplt.imshow(confusion_matrix(true_classes, predicted_classes, normalize='true'), cmap='hot', interpolation='nearest')\\n\\n# Add some anotation for the plot\\nplt.colorbar()\\nplt.xlabel('True label')\\nplt.ylabel('Predicted label')\\nplt.show()\\nprint(conf_mat)\\n\""
            ]
          },
          "metadata": {
            "tags": []
          },
          "execution_count": 19
        }
      ]
    },
    {
      "cell_type": "code",
      "metadata": {
        "id": "r7cMuKjJ_Nm7",
        "colab": {
          "base_uri": "https://localhost:8080/",
          "height": 129
        },
        "outputId": "9e9a48a8-87af-45cf-871e-47f001c15cb9"
      },
      "source": [
        "#This cell will print a ROC curve for prediction data. Have \n",
        "'''\n",
        "from sklearn import preprocessing\n",
        "from sklearn.feature_extraction import DictVectorizer\n",
        "\n",
        "fpr = {}\n",
        "tpr = {}\n",
        "roc_auc = {}\n",
        "\n",
        "#Initalize key reference dictionaries \n",
        "stage_dict = {0:'NORMAL', 1:'COVID-19', 2:'BACTERIAL PNEUMONIA', 3:'VIRAL PNEUMONIA', 4:'TUBERCULOSIS'}\n",
        "\n",
        "#Convert ndarray prediction and true labels to pandas dataframes, and then perform one hot encoding\n",
        "\n",
        "#true_classes: ndarray containing true labels\n",
        "#predicted_classes: ndarray containing predicted labels\n",
        "\n",
        "true_classes_df = pd.DataFrame(true_classes)\n",
        "true_classes_df = pd.get_dummies(true_classes_df[0], prefix='disease')\n",
        "predicted_classes_df = pd.DataFrame(predicted_classes)\n",
        "predicted_classes_df = pd.get_dummies(predicted_classes_df[0], prefix='disease')\n",
        "\n",
        "#Plot roc curves\n",
        "plt.figure(figsize=(14,10))\n",
        "for i in range(5):\n",
        "    fpr[i], tpr[i], _ = metrics.roc_curve(true_classes_df.iloc[:, i], predicted_classes_df.iloc[:, i])\n",
        "    roc_auc[i] = metrics.auc(fpr[i], tpr[i])\n",
        "    plt.plot(fpr[i], tpr[i], label = stage_dict[i] + ', ' + str(i))\n",
        "\n",
        "plt.plot([0, 1], [0, 1])\n",
        "plt.xlabel('False Positive Rate')\n",
        "plt.ylabel('True Positive Rate')\n",
        "plt.title('Multi-Class ROC Curve')\n",
        "plt.legend()\n",
        "plt.show()\n",
        "\n",
        "fpr[\"micro\"], tpr[\"micro\"], _ = metrics.roc_curve(true_classes_df.values.ravel(), predicted_classes_df.values.ravel())\n",
        "\n",
        "roc_auc_agg = metrics.auc(fpr[\"micro\"], tpr[\"micro\"])\n",
        "print(\"Averge AUC:\")\n",
        "print(roc_auc_agg)'''"
      ],
      "execution_count": 1,
      "outputs": [
        {
          "output_type": "error",
          "ename": "SyntaxError",
          "evalue": "ignored",
          "traceback": [
            "\u001b[0;36m  File \u001b[0;32m\"<ipython-input-1-95048d424e8d>\"\u001b[0;36m, line \u001b[0;32m41\u001b[0m\n\u001b[0;31m    print(roc_auc_agg)'''\u001b[0m\n\u001b[0m                         ^\u001b[0m\n\u001b[0;31mSyntaxError\u001b[0m\u001b[0;31m:\u001b[0m EOF while scanning triple-quoted string literal\n"
          ]
        }
      ]
    },
    {
      "cell_type": "code",
      "metadata": {
        "id": "hMMYIAzb6eGe"
      },
      "source": [
        ""
      ],
      "execution_count": null,
      "outputs": []
    }
  ]
}